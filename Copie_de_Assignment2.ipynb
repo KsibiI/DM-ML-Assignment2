{
  "nbformat": 4,
  "nbformat_minor": 0,
  "metadata": {
    "colab": {
      "name": "Copie de Assignment2.ipynb",
      "provenance": [],
      "collapsed_sections": [
        "ggwsQQ430s7P",
        "Uxnoh22x1NQE",
        "Ef69Or0C2G0w",
        "m5QlsizK29dR",
        "hdgZ5cm2351c",
        "9aSX_T0H6Mhw",
        "AnPpI_li6yg_",
        "p6BHQzMUDAzR"
      ],
      "include_colab_link": true
    },
    "kernelspec": {
      "name": "python3",
      "display_name": "Python 3"
    },
    "language_info": {
      "name": "python"
    }
  },
  "cells": [
    {
      "cell_type": "markdown",
      "metadata": {
        "id": "view-in-github",
        "colab_type": "text"
      },
      "source": [
        "<a href=\"https://colab.research.google.com/github/KsibiI/DM-ML-Assignment2/blob/main/Copie_de_Assignment2.ipynb\" target=\"_parent\"><img src=\"https://colab.research.google.com/assets/colab-badge.svg\" alt=\"Open In Colab\"/></a>"
      ]
    },
    {
      "cell_type": "markdown",
      "metadata": {
        "id": "xKZsLA54_9EO"
      },
      "source": [
        "# Data Mining and Machine Learning - Assignment 2\n",
        "\n",
        "> Topics Covered: Classification (week 6 to week 7)\n",
        "\n",
        "**Due: Sunday November 21, 11.59pm**\n",
        "\n",
        "\n",
        "To complete the assignment you have to do ***both***:\n",
        "\n",
        "1. Complete the exercises and [submit your Python notebook](https://moodle.unil.ch/mod/assign/view.php?id=1182268)\n",
        "2. Answer the questions to the [quiz on Moodle](https://moodle.unil.ch/mod/quiz/view.php?id=1182280)\n",
        ">Note: You can only complete the quiz *one time*. Have your notebook ready with your solutions for answering the quiz. \n",
        "\n",
        "The answers to the quiz should be supported by your code in the notebook. If they are not you will not receive points for them.\n",
        "\n",
        "**IMPORTANT!** You can discuss the questions with other students but **do not exchange code!** This is individual work. We will run your code and check for similarities.\n",
        "\n",
        "You can post your questions in [slack channel #assignment_questions](https://app.slack.com/client/T02C4KVGVMX/C02BBA2TFQF).\n",
        "\n",
        "\n",
        "If there is need for further clarifications on the questions, after the assignment is released, we will update this file on GitHub, so make sure you check the git repo for updates.\n",
        "\n",
        "To get started, run the first few cells to load the dataset and then check out the questions.\n",
        "\n",
        "Good luck!"
      ]
    },
    {
      "cell_type": "code",
      "metadata": {
        "id": "lzK7uuJqBf-g"
      },
      "source": [
        "# Import required packages\n",
        "\n",
        "%matplotlib inline\n",
        "import numpy as np\n",
        "import matplotlib.pyplot as plt\n",
        "import pandas as pd \n",
        "import seaborn as sns\n",
        "sns.set_style(\"whitegrid\")"
      ],
      "execution_count": 132,
      "outputs": []
    },
    {
      "cell_type": "markdown",
      "metadata": {
        "id": "gV9UH9Y9CDUb"
      },
      "source": [
        "**Important!**\n",
        "\n",
        "**For all the questions below, fix the seed of random generators to 72.**"
      ]
    },
    {
      "cell_type": "code",
      "metadata": {
        "id": "nfz1e8kmB3fw"
      },
      "source": [
        "np.random.seed = 72"
      ],
      "execution_count": 133,
      "outputs": []
    },
    {
      "cell_type": "markdown",
      "metadata": {
        "id": "zkMhOCYSCOmH"
      },
      "source": [
        "# Classification\n",
        "\n",
        "For the first part we use employee retention data from [Kaggle](https://www.kaggle.com/pankeshpatel/hrcommasep). The dataset contains HR information on a company's employees such as:\n",
        "* satisfaction level, ranges from 0 to 1\n",
        "* score of the last evaluation they received, ranges from 0 to 1\n",
        "* number of projects in which the employee is involved \n",
        "* average number of hours worked per month\n",
        "* years spent with the company\n",
        "* whether they experienced a work accident (1 if yes, 0 if no)\n",
        "* whether they left thier job (1) or stayed with the company (0)\n",
        "* whether they received a promotion in the last 5 years (1 if yes, 0 if no)\n",
        "* the department in which they work\n",
        "* whether their salary was low, medium or high.\n",
        "\n",
        "### _Your task is to build a model that predicts whether an employee stays (0) or leaves the company (1)._\n",
        "\n",
        "### 1. Load the data"
      ]
    },
    {
      "cell_type": "code",
      "metadata": {
        "id": "r8vG7eB6FBFe",
        "colab": {
          "base_uri": "https://localhost:8080/",
          "height": 379
        },
        "outputId": "45a60e0f-17a8-4c7f-c6e3-d44c944fa828"
      },
      "source": [
        "# Load data\n",
        "df=pd.read_csv('https://raw.githubusercontent.com/michalis0/DataMining_and_MachineLearning/master/data/HR_comma_sep.csv')\n",
        "df.head(10)"
      ],
      "execution_count": 134,
      "outputs": [
        {
          "output_type": "execute_result",
          "data": {
            "text/html": [
              "<div>\n",
              "<style scoped>\n",
              "    .dataframe tbody tr th:only-of-type {\n",
              "        vertical-align: middle;\n",
              "    }\n",
              "\n",
              "    .dataframe tbody tr th {\n",
              "        vertical-align: top;\n",
              "    }\n",
              "\n",
              "    .dataframe thead th {\n",
              "        text-align: right;\n",
              "    }\n",
              "</style>\n",
              "<table border=\"1\" class=\"dataframe\">\n",
              "  <thead>\n",
              "    <tr style=\"text-align: right;\">\n",
              "      <th></th>\n",
              "      <th>satisfaction_level</th>\n",
              "      <th>last_evaluation</th>\n",
              "      <th>number_project</th>\n",
              "      <th>average_monthly_hours</th>\n",
              "      <th>time_spent_company</th>\n",
              "      <th>work_accident</th>\n",
              "      <th>left</th>\n",
              "      <th>promotion_last_5years</th>\n",
              "      <th>department</th>\n",
              "      <th>salary</th>\n",
              "    </tr>\n",
              "  </thead>\n",
              "  <tbody>\n",
              "    <tr>\n",
              "      <th>0</th>\n",
              "      <td>0.38</td>\n",
              "      <td>0.53</td>\n",
              "      <td>2</td>\n",
              "      <td>157</td>\n",
              "      <td>3</td>\n",
              "      <td>0</td>\n",
              "      <td>1</td>\n",
              "      <td>0</td>\n",
              "      <td>sales</td>\n",
              "      <td>low</td>\n",
              "    </tr>\n",
              "    <tr>\n",
              "      <th>1</th>\n",
              "      <td>0.80</td>\n",
              "      <td>0.86</td>\n",
              "      <td>5</td>\n",
              "      <td>262</td>\n",
              "      <td>6</td>\n",
              "      <td>0</td>\n",
              "      <td>1</td>\n",
              "      <td>0</td>\n",
              "      <td>sales</td>\n",
              "      <td>medium</td>\n",
              "    </tr>\n",
              "    <tr>\n",
              "      <th>2</th>\n",
              "      <td>0.11</td>\n",
              "      <td>0.88</td>\n",
              "      <td>7</td>\n",
              "      <td>272</td>\n",
              "      <td>4</td>\n",
              "      <td>0</td>\n",
              "      <td>1</td>\n",
              "      <td>0</td>\n",
              "      <td>sales</td>\n",
              "      <td>medium</td>\n",
              "    </tr>\n",
              "    <tr>\n",
              "      <th>3</th>\n",
              "      <td>0.72</td>\n",
              "      <td>0.87</td>\n",
              "      <td>5</td>\n",
              "      <td>223</td>\n",
              "      <td>5</td>\n",
              "      <td>0</td>\n",
              "      <td>1</td>\n",
              "      <td>0</td>\n",
              "      <td>sales</td>\n",
              "      <td>low</td>\n",
              "    </tr>\n",
              "    <tr>\n",
              "      <th>4</th>\n",
              "      <td>0.37</td>\n",
              "      <td>0.52</td>\n",
              "      <td>2</td>\n",
              "      <td>159</td>\n",
              "      <td>3</td>\n",
              "      <td>0</td>\n",
              "      <td>1</td>\n",
              "      <td>0</td>\n",
              "      <td>sales</td>\n",
              "      <td>low</td>\n",
              "    </tr>\n",
              "    <tr>\n",
              "      <th>5</th>\n",
              "      <td>0.41</td>\n",
              "      <td>0.50</td>\n",
              "      <td>2</td>\n",
              "      <td>153</td>\n",
              "      <td>3</td>\n",
              "      <td>0</td>\n",
              "      <td>1</td>\n",
              "      <td>0</td>\n",
              "      <td>sales</td>\n",
              "      <td>low</td>\n",
              "    </tr>\n",
              "    <tr>\n",
              "      <th>6</th>\n",
              "      <td>0.10</td>\n",
              "      <td>0.77</td>\n",
              "      <td>6</td>\n",
              "      <td>247</td>\n",
              "      <td>4</td>\n",
              "      <td>0</td>\n",
              "      <td>1</td>\n",
              "      <td>0</td>\n",
              "      <td>sales</td>\n",
              "      <td>low</td>\n",
              "    </tr>\n",
              "    <tr>\n",
              "      <th>7</th>\n",
              "      <td>0.92</td>\n",
              "      <td>0.85</td>\n",
              "      <td>5</td>\n",
              "      <td>259</td>\n",
              "      <td>5</td>\n",
              "      <td>0</td>\n",
              "      <td>1</td>\n",
              "      <td>0</td>\n",
              "      <td>sales</td>\n",
              "      <td>low</td>\n",
              "    </tr>\n",
              "    <tr>\n",
              "      <th>8</th>\n",
              "      <td>0.89</td>\n",
              "      <td>1.00</td>\n",
              "      <td>5</td>\n",
              "      <td>224</td>\n",
              "      <td>5</td>\n",
              "      <td>0</td>\n",
              "      <td>1</td>\n",
              "      <td>0</td>\n",
              "      <td>sales</td>\n",
              "      <td>low</td>\n",
              "    </tr>\n",
              "    <tr>\n",
              "      <th>9</th>\n",
              "      <td>0.42</td>\n",
              "      <td>0.53</td>\n",
              "      <td>2</td>\n",
              "      <td>142</td>\n",
              "      <td>3</td>\n",
              "      <td>0</td>\n",
              "      <td>1</td>\n",
              "      <td>0</td>\n",
              "      <td>sales</td>\n",
              "      <td>low</td>\n",
              "    </tr>\n",
              "  </tbody>\n",
              "</table>\n",
              "</div>"
            ],
            "text/plain": [
              "   satisfaction_level  last_evaluation  ...  department  salary\n",
              "0                0.38             0.53  ...       sales     low\n",
              "1                0.80             0.86  ...       sales  medium\n",
              "2                0.11             0.88  ...       sales  medium\n",
              "3                0.72             0.87  ...       sales     low\n",
              "4                0.37             0.52  ...       sales     low\n",
              "5                0.41             0.50  ...       sales     low\n",
              "6                0.10             0.77  ...       sales     low\n",
              "7                0.92             0.85  ...       sales     low\n",
              "8                0.89             1.00  ...       sales     low\n",
              "9                0.42             0.53  ...       sales     low\n",
              "\n",
              "[10 rows x 10 columns]"
            ]
          },
          "metadata": {},
          "execution_count": 134
        }
      ]
    },
    {
      "cell_type": "markdown",
      "metadata": {
        "id": "XjJUPGBhGkWl"
      },
      "source": [
        "#### 1.1. How many rows and columns does the dataset have?"
      ]
    },
    {
      "cell_type": "code",
      "metadata": {
        "id": "t2vhggADGC_j",
        "colab": {
          "base_uri": "https://localhost:8080/"
        },
        "outputId": "068a0bb1-aee3-440b-8171-985f0093e51a"
      },
      "source": [
        "#your code here\n",
        "df.shape\n"
      ],
      "execution_count": 135,
      "outputs": [
        {
          "output_type": "execute_result",
          "data": {
            "text/plain": [
              "(14999, 10)"
            ]
          },
          "metadata": {},
          "execution_count": 135
        }
      ]
    },
    {
      "cell_type": "markdown",
      "metadata": {
        "id": "CKhxJGwek5Uo"
      },
      "source": [
        "#### 1.2. Looking at the `left` column, which shows 1 if an employee left their job and 0 if they stayed, calculate and show the frequency of each class in the total dataset. "
      ]
    },
    {
      "cell_type": "code",
      "metadata": {
        "id": "0Lk2MlFJlgXx",
        "colab": {
          "base_uri": "https://localhost:8080/",
          "height": 142
        },
        "outputId": "f8a8194a-b64b-4828-bd57-4b591f09dad2"
      },
      "source": [
        "# your code here\n",
        "frequency_df = df.groupby('left').count()\n",
        "frequency_df\n"
      ],
      "execution_count": 136,
      "outputs": [
        {
          "output_type": "execute_result",
          "data": {
            "text/html": [
              "<div>\n",
              "<style scoped>\n",
              "    .dataframe tbody tr th:only-of-type {\n",
              "        vertical-align: middle;\n",
              "    }\n",
              "\n",
              "    .dataframe tbody tr th {\n",
              "        vertical-align: top;\n",
              "    }\n",
              "\n",
              "    .dataframe thead th {\n",
              "        text-align: right;\n",
              "    }\n",
              "</style>\n",
              "<table border=\"1\" class=\"dataframe\">\n",
              "  <thead>\n",
              "    <tr style=\"text-align: right;\">\n",
              "      <th></th>\n",
              "      <th>satisfaction_level</th>\n",
              "      <th>last_evaluation</th>\n",
              "      <th>number_project</th>\n",
              "      <th>average_monthly_hours</th>\n",
              "      <th>time_spent_company</th>\n",
              "      <th>work_accident</th>\n",
              "      <th>promotion_last_5years</th>\n",
              "      <th>department</th>\n",
              "      <th>salary</th>\n",
              "    </tr>\n",
              "    <tr>\n",
              "      <th>left</th>\n",
              "      <th></th>\n",
              "      <th></th>\n",
              "      <th></th>\n",
              "      <th></th>\n",
              "      <th></th>\n",
              "      <th></th>\n",
              "      <th></th>\n",
              "      <th></th>\n",
              "      <th></th>\n",
              "    </tr>\n",
              "  </thead>\n",
              "  <tbody>\n",
              "    <tr>\n",
              "      <th>0</th>\n",
              "      <td>11428</td>\n",
              "      <td>11428</td>\n",
              "      <td>11428</td>\n",
              "      <td>11428</td>\n",
              "      <td>11428</td>\n",
              "      <td>11428</td>\n",
              "      <td>11428</td>\n",
              "      <td>11428</td>\n",
              "      <td>11428</td>\n",
              "    </tr>\n",
              "    <tr>\n",
              "      <th>1</th>\n",
              "      <td>3571</td>\n",
              "      <td>3571</td>\n",
              "      <td>3571</td>\n",
              "      <td>3571</td>\n",
              "      <td>3571</td>\n",
              "      <td>3571</td>\n",
              "      <td>3571</td>\n",
              "      <td>3571</td>\n",
              "      <td>3571</td>\n",
              "    </tr>\n",
              "  </tbody>\n",
              "</table>\n",
              "</div>"
            ],
            "text/plain": [
              "      satisfaction_level  last_evaluation  ...  department  salary\n",
              "left                                       ...                    \n",
              "0                  11428            11428  ...       11428   11428\n",
              "1                   3571             3571  ...        3571    3571\n",
              "\n",
              "[2 rows x 9 columns]"
            ]
          },
          "metadata": {},
          "execution_count": 136
        }
      ]
    },
    {
      "cell_type": "markdown",
      "metadata": {
        "id": "aoopUs5tImLE"
      },
      "source": [
        "\n",
        "### 2. Encode categorical variables\n",
        "\n",
        "\n",
        "For the following categorical features:\n",
        "- encode `salary` with two different encoders: a label encoder, an ordinal encoder (keep both), and\n",
        "- `department` with one hot encoding. \n",
        "\n"
      ]
    },
    {
      "cell_type": "code",
      "metadata": {
        "id": "zQXR8WIZLRNE"
      },
      "source": [
        "# import some additional packages\n",
        "from sklearn.preprocessing import OrdinalEncoder, OneHotEncoder, LabelEncoder\n",
        "from sklearn.linear_model import LogisticRegression, LogisticRegressionCV\n",
        "from sklearn.model_selection import train_test_split\n",
        "from sklearn.metrics import confusion_matrix, accuracy_score, precision_score, recall_score, f1_score\n",
        "from sklearn. preprocessing import StandardScaler"
      ],
      "execution_count": 137,
      "outputs": []
    },
    {
      "cell_type": "markdown",
      "metadata": {
        "id": "sjAsVeI_ZL35"
      },
      "source": [
        "#### 2.1. Use a LabelEncoder to encode `salary` as `le_salary`."
      ]
    },
    {
      "cell_type": "code",
      "metadata": {
        "id": "VT14zC0LZTb5",
        "colab": {
          "base_uri": "https://localhost:8080/"
        },
        "outputId": "c38dc2b4-87ae-4d3a-8a50-d72c32f503f0"
      },
      "source": [
        "# your code here\n",
        "le=LabelEncoder()\n",
        "le_salary = pd.Series(LabelEncoder().fit_transform(df[\"salary\"]), name=\"le_salary\")\n",
        "le_salary"
      ],
      "execution_count": 138,
      "outputs": [
        {
          "output_type": "execute_result",
          "data": {
            "text/plain": [
              "0        1\n",
              "1        2\n",
              "2        2\n",
              "3        1\n",
              "4        1\n",
              "        ..\n",
              "14994    1\n",
              "14995    1\n",
              "14996    1\n",
              "14997    1\n",
              "14998    1\n",
              "Name: le_salary, Length: 14999, dtype: int64"
            ]
          },
          "metadata": {},
          "execution_count": 138
        }
      ]
    },
    {
      "cell_type": "markdown",
      "metadata": {
        "id": "rT76Rg8nXX5X"
      },
      "source": [
        "#### 2.2. Use an Ordinal Encoder to encode `salary` as `oe_salary`. For the ordinal encoding you should set your own dictionary such that `low salary` corresponds to 0, 1 to medium and 2 to high. "
      ]
    },
    {
      "cell_type": "code",
      "metadata": {
        "id": "MlaIHaSDOttB",
        "colab": {
          "base_uri": "https://localhost:8080/"
        },
        "outputId": "423767ed-a4f5-471f-eff8-65f7e408f230"
      },
      "source": [
        "# your code here\n",
        "oe=OrdinalEncoder()\n",
        "oe.set_params(categories= [['low', 'medium', 'high']])\n",
        "oe_salary= oe.fit_transform(df[['salary']])\n",
        "\n",
        "oe_salary = pd.DataFrame(oe_salary).astype('int')\n",
        "oe_salary.value_counts()"
      ],
      "execution_count": 139,
      "outputs": [
        {
          "output_type": "execute_result",
          "data": {
            "text/plain": [
              "0    7316\n",
              "1    6446\n",
              "2    1237\n",
              "dtype: int64"
            ]
          },
          "metadata": {},
          "execution_count": 139
        }
      ]
    },
    {
      "cell_type": "markdown",
      "metadata": {
        "id": "pG6n5thAaTPL"
      },
      "source": [
        "#### 2.3. Encode the `department` column with one hot encoding."
      ]
    },
    {
      "cell_type": "code",
      "metadata": {
        "id": "LONRrPVqaVtL",
        "colab": {
          "base_uri": "https://localhost:8080/",
          "height": 419
        },
        "outputId": "50b60ca2-4c43-4450-d5a1-69a74f926139"
      },
      "source": [
        "#your code here\n",
        "one_hot = OneHotEncoder()\n",
        "cat_to_onehot = one_hot.fit_transform(df[[\"department\"]]).toarray()\n",
        "cat_to_onehot = pd.DataFrame(cat_to_onehot, columns=one_hot.categories_)\n",
        "cat_to_onehot\n"
      ],
      "execution_count": 140,
      "outputs": [
        {
          "output_type": "execute_result",
          "data": {
            "text/html": [
              "<div>\n",
              "<style scoped>\n",
              "    .dataframe tbody tr th:only-of-type {\n",
              "        vertical-align: middle;\n",
              "    }\n",
              "\n",
              "    .dataframe tbody tr th {\n",
              "        vertical-align: top;\n",
              "    }\n",
              "\n",
              "    .dataframe thead tr th {\n",
              "        text-align: left;\n",
              "    }\n",
              "</style>\n",
              "<table border=\"1\" class=\"dataframe\">\n",
              "  <thead>\n",
              "    <tr>\n",
              "      <th></th>\n",
              "      <th>IT</th>\n",
              "      <th>RandD</th>\n",
              "      <th>accounting</th>\n",
              "      <th>hr</th>\n",
              "      <th>management</th>\n",
              "      <th>marketing</th>\n",
              "      <th>product_mng</th>\n",
              "      <th>sales</th>\n",
              "      <th>support</th>\n",
              "      <th>technical</th>\n",
              "    </tr>\n",
              "  </thead>\n",
              "  <tbody>\n",
              "    <tr>\n",
              "      <th>0</th>\n",
              "      <td>0.0</td>\n",
              "      <td>0.0</td>\n",
              "      <td>0.0</td>\n",
              "      <td>0.0</td>\n",
              "      <td>0.0</td>\n",
              "      <td>0.0</td>\n",
              "      <td>0.0</td>\n",
              "      <td>1.0</td>\n",
              "      <td>0.0</td>\n",
              "      <td>0.0</td>\n",
              "    </tr>\n",
              "    <tr>\n",
              "      <th>1</th>\n",
              "      <td>0.0</td>\n",
              "      <td>0.0</td>\n",
              "      <td>0.0</td>\n",
              "      <td>0.0</td>\n",
              "      <td>0.0</td>\n",
              "      <td>0.0</td>\n",
              "      <td>0.0</td>\n",
              "      <td>1.0</td>\n",
              "      <td>0.0</td>\n",
              "      <td>0.0</td>\n",
              "    </tr>\n",
              "    <tr>\n",
              "      <th>2</th>\n",
              "      <td>0.0</td>\n",
              "      <td>0.0</td>\n",
              "      <td>0.0</td>\n",
              "      <td>0.0</td>\n",
              "      <td>0.0</td>\n",
              "      <td>0.0</td>\n",
              "      <td>0.0</td>\n",
              "      <td>1.0</td>\n",
              "      <td>0.0</td>\n",
              "      <td>0.0</td>\n",
              "    </tr>\n",
              "    <tr>\n",
              "      <th>3</th>\n",
              "      <td>0.0</td>\n",
              "      <td>0.0</td>\n",
              "      <td>0.0</td>\n",
              "      <td>0.0</td>\n",
              "      <td>0.0</td>\n",
              "      <td>0.0</td>\n",
              "      <td>0.0</td>\n",
              "      <td>1.0</td>\n",
              "      <td>0.0</td>\n",
              "      <td>0.0</td>\n",
              "    </tr>\n",
              "    <tr>\n",
              "      <th>4</th>\n",
              "      <td>0.0</td>\n",
              "      <td>0.0</td>\n",
              "      <td>0.0</td>\n",
              "      <td>0.0</td>\n",
              "      <td>0.0</td>\n",
              "      <td>0.0</td>\n",
              "      <td>0.0</td>\n",
              "      <td>1.0</td>\n",
              "      <td>0.0</td>\n",
              "      <td>0.0</td>\n",
              "    </tr>\n",
              "    <tr>\n",
              "      <th>...</th>\n",
              "      <td>...</td>\n",
              "      <td>...</td>\n",
              "      <td>...</td>\n",
              "      <td>...</td>\n",
              "      <td>...</td>\n",
              "      <td>...</td>\n",
              "      <td>...</td>\n",
              "      <td>...</td>\n",
              "      <td>...</td>\n",
              "      <td>...</td>\n",
              "    </tr>\n",
              "    <tr>\n",
              "      <th>14994</th>\n",
              "      <td>0.0</td>\n",
              "      <td>0.0</td>\n",
              "      <td>0.0</td>\n",
              "      <td>0.0</td>\n",
              "      <td>0.0</td>\n",
              "      <td>0.0</td>\n",
              "      <td>0.0</td>\n",
              "      <td>0.0</td>\n",
              "      <td>1.0</td>\n",
              "      <td>0.0</td>\n",
              "    </tr>\n",
              "    <tr>\n",
              "      <th>14995</th>\n",
              "      <td>0.0</td>\n",
              "      <td>0.0</td>\n",
              "      <td>0.0</td>\n",
              "      <td>0.0</td>\n",
              "      <td>0.0</td>\n",
              "      <td>0.0</td>\n",
              "      <td>0.0</td>\n",
              "      <td>0.0</td>\n",
              "      <td>1.0</td>\n",
              "      <td>0.0</td>\n",
              "    </tr>\n",
              "    <tr>\n",
              "      <th>14996</th>\n",
              "      <td>0.0</td>\n",
              "      <td>0.0</td>\n",
              "      <td>0.0</td>\n",
              "      <td>0.0</td>\n",
              "      <td>0.0</td>\n",
              "      <td>0.0</td>\n",
              "      <td>0.0</td>\n",
              "      <td>0.0</td>\n",
              "      <td>1.0</td>\n",
              "      <td>0.0</td>\n",
              "    </tr>\n",
              "    <tr>\n",
              "      <th>14997</th>\n",
              "      <td>0.0</td>\n",
              "      <td>0.0</td>\n",
              "      <td>0.0</td>\n",
              "      <td>0.0</td>\n",
              "      <td>0.0</td>\n",
              "      <td>0.0</td>\n",
              "      <td>0.0</td>\n",
              "      <td>0.0</td>\n",
              "      <td>1.0</td>\n",
              "      <td>0.0</td>\n",
              "    </tr>\n",
              "    <tr>\n",
              "      <th>14998</th>\n",
              "      <td>0.0</td>\n",
              "      <td>0.0</td>\n",
              "      <td>0.0</td>\n",
              "      <td>0.0</td>\n",
              "      <td>0.0</td>\n",
              "      <td>0.0</td>\n",
              "      <td>0.0</td>\n",
              "      <td>0.0</td>\n",
              "      <td>1.0</td>\n",
              "      <td>0.0</td>\n",
              "    </tr>\n",
              "  </tbody>\n",
              "</table>\n",
              "<p>14999 rows × 10 columns</p>\n",
              "</div>"
            ],
            "text/plain": [
              "        IT RandD accounting   hr  ... product_mng sales support technical\n",
              "0      0.0   0.0        0.0  0.0  ...         0.0   1.0     0.0       0.0\n",
              "1      0.0   0.0        0.0  0.0  ...         0.0   1.0     0.0       0.0\n",
              "2      0.0   0.0        0.0  0.0  ...         0.0   1.0     0.0       0.0\n",
              "3      0.0   0.0        0.0  0.0  ...         0.0   1.0     0.0       0.0\n",
              "4      0.0   0.0        0.0  0.0  ...         0.0   1.0     0.0       0.0\n",
              "...    ...   ...        ...  ...  ...         ...   ...     ...       ...\n",
              "14994  0.0   0.0        0.0  0.0  ...         0.0   0.0     1.0       0.0\n",
              "14995  0.0   0.0        0.0  0.0  ...         0.0   0.0     1.0       0.0\n",
              "14996  0.0   0.0        0.0  0.0  ...         0.0   0.0     1.0       0.0\n",
              "14997  0.0   0.0        0.0  0.0  ...         0.0   0.0     1.0       0.0\n",
              "14998  0.0   0.0        0.0  0.0  ...         0.0   0.0     1.0       0.0\n",
              "\n",
              "[14999 rows x 10 columns]"
            ]
          },
          "metadata": {},
          "execution_count": 140
        }
      ]
    },
    {
      "cell_type": "markdown",
      "metadata": {
        "id": "UWzJoRFib5PH"
      },
      "source": [
        "#### 2.4. Now concatenate all the features (`department` one hot-encoded, and the two versions of encoded `salary`) to the initial dataframe. You can use the `pd.concat` function. \n",
        "> Hint: You should have a total of 22 features in the concatenated dataset."
      ]
    },
    {
      "cell_type": "code",
      "metadata": {
        "id": "DuG_lUKqcQrk",
        "colab": {
          "base_uri": "https://localhost:8080/",
          "height": 224
        },
        "outputId": "738cdb81-8530-4a70-9157-b6a2aadacc18"
      },
      "source": [
        "# your code here\n",
        "df = pd.concat([df, cat_to_onehot, le_salary, oe_salary], axis=1)\n",
        "df.head()"
      ],
      "execution_count": 141,
      "outputs": [
        {
          "output_type": "execute_result",
          "data": {
            "text/html": [
              "<div>\n",
              "<style scoped>\n",
              "    .dataframe tbody tr th:only-of-type {\n",
              "        vertical-align: middle;\n",
              "    }\n",
              "\n",
              "    .dataframe tbody tr th {\n",
              "        vertical-align: top;\n",
              "    }\n",
              "\n",
              "    .dataframe thead th {\n",
              "        text-align: right;\n",
              "    }\n",
              "</style>\n",
              "<table border=\"1\" class=\"dataframe\">\n",
              "  <thead>\n",
              "    <tr style=\"text-align: right;\">\n",
              "      <th></th>\n",
              "      <th>satisfaction_level</th>\n",
              "      <th>last_evaluation</th>\n",
              "      <th>number_project</th>\n",
              "      <th>average_monthly_hours</th>\n",
              "      <th>time_spent_company</th>\n",
              "      <th>work_accident</th>\n",
              "      <th>left</th>\n",
              "      <th>promotion_last_5years</th>\n",
              "      <th>department</th>\n",
              "      <th>salary</th>\n",
              "      <th>(IT,)</th>\n",
              "      <th>(RandD,)</th>\n",
              "      <th>(accounting,)</th>\n",
              "      <th>(hr,)</th>\n",
              "      <th>(management,)</th>\n",
              "      <th>(marketing,)</th>\n",
              "      <th>(product_mng,)</th>\n",
              "      <th>(sales,)</th>\n",
              "      <th>(support,)</th>\n",
              "      <th>(technical,)</th>\n",
              "      <th>le_salary</th>\n",
              "      <th>0</th>\n",
              "    </tr>\n",
              "  </thead>\n",
              "  <tbody>\n",
              "    <tr>\n",
              "      <th>0</th>\n",
              "      <td>0.38</td>\n",
              "      <td>0.53</td>\n",
              "      <td>2</td>\n",
              "      <td>157</td>\n",
              "      <td>3</td>\n",
              "      <td>0</td>\n",
              "      <td>1</td>\n",
              "      <td>0</td>\n",
              "      <td>sales</td>\n",
              "      <td>low</td>\n",
              "      <td>0.0</td>\n",
              "      <td>0.0</td>\n",
              "      <td>0.0</td>\n",
              "      <td>0.0</td>\n",
              "      <td>0.0</td>\n",
              "      <td>0.0</td>\n",
              "      <td>0.0</td>\n",
              "      <td>1.0</td>\n",
              "      <td>0.0</td>\n",
              "      <td>0.0</td>\n",
              "      <td>1</td>\n",
              "      <td>0</td>\n",
              "    </tr>\n",
              "    <tr>\n",
              "      <th>1</th>\n",
              "      <td>0.80</td>\n",
              "      <td>0.86</td>\n",
              "      <td>5</td>\n",
              "      <td>262</td>\n",
              "      <td>6</td>\n",
              "      <td>0</td>\n",
              "      <td>1</td>\n",
              "      <td>0</td>\n",
              "      <td>sales</td>\n",
              "      <td>medium</td>\n",
              "      <td>0.0</td>\n",
              "      <td>0.0</td>\n",
              "      <td>0.0</td>\n",
              "      <td>0.0</td>\n",
              "      <td>0.0</td>\n",
              "      <td>0.0</td>\n",
              "      <td>0.0</td>\n",
              "      <td>1.0</td>\n",
              "      <td>0.0</td>\n",
              "      <td>0.0</td>\n",
              "      <td>2</td>\n",
              "      <td>1</td>\n",
              "    </tr>\n",
              "    <tr>\n",
              "      <th>2</th>\n",
              "      <td>0.11</td>\n",
              "      <td>0.88</td>\n",
              "      <td>7</td>\n",
              "      <td>272</td>\n",
              "      <td>4</td>\n",
              "      <td>0</td>\n",
              "      <td>1</td>\n",
              "      <td>0</td>\n",
              "      <td>sales</td>\n",
              "      <td>medium</td>\n",
              "      <td>0.0</td>\n",
              "      <td>0.0</td>\n",
              "      <td>0.0</td>\n",
              "      <td>0.0</td>\n",
              "      <td>0.0</td>\n",
              "      <td>0.0</td>\n",
              "      <td>0.0</td>\n",
              "      <td>1.0</td>\n",
              "      <td>0.0</td>\n",
              "      <td>0.0</td>\n",
              "      <td>2</td>\n",
              "      <td>1</td>\n",
              "    </tr>\n",
              "    <tr>\n",
              "      <th>3</th>\n",
              "      <td>0.72</td>\n",
              "      <td>0.87</td>\n",
              "      <td>5</td>\n",
              "      <td>223</td>\n",
              "      <td>5</td>\n",
              "      <td>0</td>\n",
              "      <td>1</td>\n",
              "      <td>0</td>\n",
              "      <td>sales</td>\n",
              "      <td>low</td>\n",
              "      <td>0.0</td>\n",
              "      <td>0.0</td>\n",
              "      <td>0.0</td>\n",
              "      <td>0.0</td>\n",
              "      <td>0.0</td>\n",
              "      <td>0.0</td>\n",
              "      <td>0.0</td>\n",
              "      <td>1.0</td>\n",
              "      <td>0.0</td>\n",
              "      <td>0.0</td>\n",
              "      <td>1</td>\n",
              "      <td>0</td>\n",
              "    </tr>\n",
              "    <tr>\n",
              "      <th>4</th>\n",
              "      <td>0.37</td>\n",
              "      <td>0.52</td>\n",
              "      <td>2</td>\n",
              "      <td>159</td>\n",
              "      <td>3</td>\n",
              "      <td>0</td>\n",
              "      <td>1</td>\n",
              "      <td>0</td>\n",
              "      <td>sales</td>\n",
              "      <td>low</td>\n",
              "      <td>0.0</td>\n",
              "      <td>0.0</td>\n",
              "      <td>0.0</td>\n",
              "      <td>0.0</td>\n",
              "      <td>0.0</td>\n",
              "      <td>0.0</td>\n",
              "      <td>0.0</td>\n",
              "      <td>1.0</td>\n",
              "      <td>0.0</td>\n",
              "      <td>0.0</td>\n",
              "      <td>1</td>\n",
              "      <td>0</td>\n",
              "    </tr>\n",
              "  </tbody>\n",
              "</table>\n",
              "</div>"
            ],
            "text/plain": [
              "   satisfaction_level  last_evaluation  ...  le_salary  0\n",
              "0                0.38             0.53  ...          1  0\n",
              "1                0.80             0.86  ...          2  1\n",
              "2                0.11             0.88  ...          2  1\n",
              "3                0.72             0.87  ...          1  0\n",
              "4                0.37             0.52  ...          1  0\n",
              "\n",
              "[5 rows x 22 columns]"
            ]
          },
          "metadata": {},
          "execution_count": 141
        }
      ]
    },
    {
      "cell_type": "markdown",
      "metadata": {
        "id": "yXg5BFFAvlsG"
      },
      "source": [
        "#### 2.5. Create a new column, `eval_spent` equal to the product of two of the existing columns: the `evaluation score` and the `time spent` with the company."
      ]
    },
    {
      "cell_type": "code",
      "metadata": {
        "id": "9y-5jUqVmSVt",
        "colab": {
          "base_uri": "https://localhost:8080/"
        },
        "outputId": "5a4ba770-a0dd-414b-a123-1613e983a216"
      },
      "source": [
        "# your code here\n",
        "df['eval_spent'] = df['last_evaluation'] * df['time_spent_company']\n",
        "df['eval_spent']\n"
      ],
      "execution_count": 142,
      "outputs": [
        {
          "output_type": "execute_result",
          "data": {
            "text/plain": [
              "0        1.59\n",
              "1        5.16\n",
              "2        3.52\n",
              "3        4.35\n",
              "4        1.56\n",
              "         ... \n",
              "14994    1.71\n",
              "14995    1.44\n",
              "14996    1.59\n",
              "14997    3.84\n",
              "14998    1.56\n",
              "Name: eval_spent, Length: 14999, dtype: float64"
            ]
          },
          "metadata": {},
          "execution_count": 142
        }
      ]
    },
    {
      "cell_type": "markdown",
      "metadata": {
        "id": "RGD7oEYNy3RH"
      },
      "source": [
        "### 3. Train a Logistic Regression model with Cross Validation (with Label-Encoded Salary)\n",
        "\n",
        "For this section, train a logistic regression model with cross-validation on the employee retention dataset. Use all of the dependent variable features available from the concatenated dataset, but use only one encoded `salary` column at a time. \n",
        "\n",
        "Your dependent variable (y) is the column named `left`.\n",
        "\n",
        "You can then compare your logistic regression results when using the label-encoded salary and when using the ordinal-encoded salary.\n",
        "\n",
        "#### 3.1. Set the y and X variables. This time using `le_salary`.\n",
        "\n",
        "> Hint: X should have a total of 19 features, namely: 'satisfaction_level', 'last_evaluation',            'number_project', 'average_monthly_hours',           'time_spent_company',         'work_accident',       'promotion_last_5years',                 ('IT',),                   ('RandD',),         ('accounting',), ('hr',),         ('management',),  ('marketing',), ('product_mng',), ('sales',),            ('support',), ('technical',), 'le_salary', 'eval_spent'."
      ]
    },
    {
      "cell_type": "code",
      "metadata": {
        "id": "9299fcT1sKsh",
        "colab": {
          "base_uri": "https://localhost:8080/"
        },
        "outputId": "0573a803-963b-40ac-e5fd-da78a14e8b1a"
      },
      "source": [
        "# your code here\n",
        "X = df[['satisfaction_level', 'last_evaluation', 'number_project', 'average_monthly_hours', 'time_spent_company', 'work_accident', 'promotion_last_5years', ('IT',), ('RandD',), ('accounting',), ('hr',), ('management',), ('marketing',), ('product_mng',), ('sales',), ('support',), ('technical',), 'le_salary', 'eval_spent']].values\n",
        "y = df[\"left\"].values"
      ],
      "execution_count": 143,
      "outputs": [
        {
          "output_type": "stream",
          "name": "stderr",
          "text": [
            "/usr/local/lib/python3.7/dist-packages/numpy/core/_asarray.py:83: VisibleDeprecationWarning: Creating an ndarray from ragged nested sequences (which is a list-or-tuple of lists-or-tuples-or ndarrays with different lengths or shapes) is deprecated. If you meant to do this, you must specify 'dtype=object' when creating the ndarray\n",
            "  return array(a, dtype, copy=False, order=order)\n"
          ]
        }
      ]
    },
    {
      "cell_type": "markdown",
      "metadata": {
        "id": "btHb7-IHsnys"
      },
      "source": [
        "#### 3.2. Train/test splitting: Now split the data into 80% training and 20% test set. Remember to set the random seed to 72.\n"
      ]
    },
    {
      "cell_type": "code",
      "metadata": {
        "id": "nCgAYgX5s0QZ"
      },
      "source": [
        "# your code here\n",
        "X_train, X_test, y_train, y_test = train_test_split(X, y, test_size=0.2, random_state=72)"
      ],
      "execution_count": 144,
      "outputs": []
    },
    {
      "cell_type": "markdown",
      "metadata": {
        "id": "k6TBBmk_jsgy"
      },
      "source": [
        "#### 3.3. What is the base rate of the classification problem (whether an employee stays or leaves) ?\n",
        "> Hint: calculate the frequency of the most common class on the test set for y"
      ]
    },
    {
      "cell_type": "code",
      "metadata": {
        "id": "5Vk3Hbjsj4Ow",
        "colab": {
          "base_uri": "https://localhost:8080/"
        },
        "outputId": "7fe09e1c-521e-4dcc-dabe-25478b98f076"
      },
      "source": [
        "# your code here\n",
        "LR_cv = LogisticRegressionCV(solver='lbfgs', cv=5, max_iter=1000)\n",
        "LR_cv.fit(X_train, y_train)\n",
        "\n",
        "y_pred = LR_cv.predict(X_test)\n",
        "\n",
        "def evaluate(true, pred):\n",
        "    precision = precision_score(y_test, y_pred)\n",
        "    recall = recall_score(y_test, y_pred)\n",
        "    f1 = f1_score(y_test, y_pred)\n",
        "    print(f\"CONFUSION MATRIX:\\n{confusion_matrix(true, pred)}\")\n",
        "    print(f\"ACCURACY SCORE:\\n{accuracy_score(true, pred):.4f}\")\n",
        "    print(f\"CLASSIFICATION REPORT:\\n\\tPrecision: {precision:.4f}\\n\\tRecall: {recall:.4f}\\n\\tF1_Score: {f1:.4f}\")\n",
        "\n",
        "evaluate(y_test, y_pred)\n"
      ],
      "execution_count": 145,
      "outputs": [
        {
          "output_type": "stream",
          "name": "stdout",
          "text": [
            "CONFUSION MATRIX:\n",
            "[[2126  162]\n",
            " [ 432  280]]\n",
            "ACCURACY SCORE:\n",
            "0.8020\n",
            "CLASSIFICATION REPORT:\n",
            "\tPrecision: 0.6335\n",
            "\tRecall: 0.3933\n",
            "\tF1_Score: 0.4853\n"
          ]
        }
      ]
    },
    {
      "cell_type": "code",
      "metadata": {
        "id": "W-2Z6Bc-wdyZ"
      },
      "source": [
        "# store for comparing it later\n",
        "accuracy1=LR_cv.score(X_test, y_test)"
      ],
      "execution_count": 64,
      "outputs": []
    },
    {
      "cell_type": "markdown",
      "metadata": {
        "id": "6kp7Bth_tAzZ"
      },
      "source": [
        "#### 3.4. Finally, train a Logistic Regression model with cross validation. Use the following parameters for Logistic Regression.\n",
        "\n",
        "`LogisticRegressionCV(solver='lbfgs', cv=5, max_iter=1000, random_state=72)`"
      ]
    },
    {
      "cell_type": "code",
      "metadata": {
        "id": "v6rjMI9Ps0D7"
      },
      "source": [
        "# your code here\n",
        "LR_cv = LogisticRegressionCV(solver='lbfgs', cv=5, max_iter=1000, random_state=72)"
      ],
      "execution_count": 68,
      "outputs": []
    },
    {
      "cell_type": "markdown",
      "metadata": {
        "id": "ueQMjfHku1yt"
      },
      "source": [
        "#### 3.5. What is the test accuracy? What is the train accuracy?"
      ]
    },
    {
      "cell_type": "code",
      "metadata": {
        "id": "yX73g379u4q4",
        "colab": {
          "base_uri": "https://localhost:8080/"
        },
        "outputId": "8363c2ee-2c9e-4cee-f43b-637a57cd50ae"
      },
      "source": [
        "# your code here\n",
        "LR = LogisticRegression()\n",
        "LR.fit(X, y)"
      ],
      "execution_count": 78,
      "outputs": [
        {
          "output_type": "stream",
          "name": "stderr",
          "text": [
            "/usr/local/lib/python3.7/dist-packages/sklearn/linear_model/_logistic.py:818: ConvergenceWarning: lbfgs failed to converge (status=1):\n",
            "STOP: TOTAL NO. of ITERATIONS REACHED LIMIT.\n",
            "\n",
            "Increase the number of iterations (max_iter) or scale the data as shown in:\n",
            "    https://scikit-learn.org/stable/modules/preprocessing.html\n",
            "Please also refer to the documentation for alternative solver options:\n",
            "    https://scikit-learn.org/stable/modules/linear_model.html#logistic-regression\n",
            "  extra_warning_msg=_LOGISTIC_SOLVER_CONVERGENCE_MSG,\n"
          ]
        },
        {
          "output_type": "execute_result",
          "data": {
            "text/plain": [
              "LogisticRegression()"
            ]
          },
          "metadata": {},
          "execution_count": 78
        }
      ]
    },
    {
      "cell_type": "code",
      "metadata": {
        "colab": {
          "base_uri": "https://localhost:8080/",
          "height": 307
        },
        "id": "1Gn2EtwrAu_m",
        "outputId": "12cc0f06-a375-4706-c6e0-8f42ab5b6b77"
      },
      "source": [
        "LR.score(X_train, y_train)"
      ],
      "execution_count": 131,
      "outputs": [
        {
          "output_type": "error",
          "ename": "ValueError",
          "evalue": "ignored",
          "traceback": [
            "\u001b[0;31m---------------------------------------------------------------------------\u001b[0m",
            "\u001b[0;31mValueError\u001b[0m                                Traceback (most recent call last)",
            "\u001b[0;32m<ipython-input-131-d3d842611f21>\u001b[0m in \u001b[0;36m<module>\u001b[0;34m()\u001b[0m\n\u001b[0;32m----> 1\u001b[0;31m \u001b[0mLR\u001b[0m\u001b[0;34m.\u001b[0m\u001b[0mscore\u001b[0m\u001b[0;34m(\u001b[0m\u001b[0mX_train\u001b[0m\u001b[0;34m,\u001b[0m \u001b[0my_train\u001b[0m\u001b[0;34m)\u001b[0m\u001b[0;34m\u001b[0m\u001b[0;34m\u001b[0m\u001b[0m\n\u001b[0m",
            "\u001b[0;32m/usr/local/lib/python3.7/dist-packages/sklearn/base.py\u001b[0m in \u001b[0;36mscore\u001b[0;34m(self, X, y, sample_weight)\u001b[0m\n\u001b[1;32m    644\u001b[0m         \u001b[0;32mfrom\u001b[0m \u001b[0;34m.\u001b[0m\u001b[0mmetrics\u001b[0m \u001b[0;32mimport\u001b[0m \u001b[0maccuracy_score\u001b[0m\u001b[0;34m\u001b[0m\u001b[0;34m\u001b[0m\u001b[0m\n\u001b[1;32m    645\u001b[0m \u001b[0;34m\u001b[0m\u001b[0m\n\u001b[0;32m--> 646\u001b[0;31m         \u001b[0;32mreturn\u001b[0m \u001b[0maccuracy_score\u001b[0m\u001b[0;34m(\u001b[0m\u001b[0my\u001b[0m\u001b[0;34m,\u001b[0m \u001b[0mself\u001b[0m\u001b[0;34m.\u001b[0m\u001b[0mpredict\u001b[0m\u001b[0;34m(\u001b[0m\u001b[0mX\u001b[0m\u001b[0;34m)\u001b[0m\u001b[0;34m,\u001b[0m \u001b[0msample_weight\u001b[0m\u001b[0;34m=\u001b[0m\u001b[0msample_weight\u001b[0m\u001b[0;34m)\u001b[0m\u001b[0;34m\u001b[0m\u001b[0;34m\u001b[0m\u001b[0m\n\u001b[0m\u001b[1;32m    647\u001b[0m \u001b[0;34m\u001b[0m\u001b[0m\n\u001b[1;32m    648\u001b[0m     \u001b[0;32mdef\u001b[0m \u001b[0m_more_tags\u001b[0m\u001b[0;34m(\u001b[0m\u001b[0mself\u001b[0m\u001b[0;34m)\u001b[0m\u001b[0;34m:\u001b[0m\u001b[0;34m\u001b[0m\u001b[0;34m\u001b[0m\u001b[0m\n",
            "\u001b[0;32m/usr/local/lib/python3.7/dist-packages/sklearn/linear_model/_base.py\u001b[0m in \u001b[0;36mpredict\u001b[0;34m(self, X)\u001b[0m\n\u001b[1;32m    423\u001b[0m             \u001b[0mPredicted\u001b[0m \u001b[0;32mclass\u001b[0m \u001b[0mlabel\u001b[0m \u001b[0mper\u001b[0m \u001b[0msample\u001b[0m\u001b[0;34m.\u001b[0m\u001b[0;34m\u001b[0m\u001b[0;34m\u001b[0m\u001b[0m\n\u001b[1;32m    424\u001b[0m         \"\"\"\n\u001b[0;32m--> 425\u001b[0;31m         \u001b[0mscores\u001b[0m \u001b[0;34m=\u001b[0m \u001b[0mself\u001b[0m\u001b[0;34m.\u001b[0m\u001b[0mdecision_function\u001b[0m\u001b[0;34m(\u001b[0m\u001b[0mX\u001b[0m\u001b[0;34m)\u001b[0m\u001b[0;34m\u001b[0m\u001b[0;34m\u001b[0m\u001b[0m\n\u001b[0m\u001b[1;32m    426\u001b[0m         \u001b[0;32mif\u001b[0m \u001b[0mlen\u001b[0m\u001b[0;34m(\u001b[0m\u001b[0mscores\u001b[0m\u001b[0;34m.\u001b[0m\u001b[0mshape\u001b[0m\u001b[0;34m)\u001b[0m \u001b[0;34m==\u001b[0m \u001b[0;36m1\u001b[0m\u001b[0;34m:\u001b[0m\u001b[0;34m\u001b[0m\u001b[0;34m\u001b[0m\u001b[0m\n\u001b[1;32m    427\u001b[0m             \u001b[0mindices\u001b[0m \u001b[0;34m=\u001b[0m \u001b[0;34m(\u001b[0m\u001b[0mscores\u001b[0m \u001b[0;34m>\u001b[0m \u001b[0;36m0\u001b[0m\u001b[0;34m)\u001b[0m\u001b[0;34m.\u001b[0m\u001b[0mastype\u001b[0m\u001b[0;34m(\u001b[0m\u001b[0mint\u001b[0m\u001b[0;34m)\u001b[0m\u001b[0;34m\u001b[0m\u001b[0;34m\u001b[0m\u001b[0m\n",
            "\u001b[0;32m/usr/local/lib/python3.7/dist-packages/sklearn/linear_model/_base.py\u001b[0m in \u001b[0;36mdecision_function\u001b[0;34m(self, X)\u001b[0m\n\u001b[1;32m    405\u001b[0m         \u001b[0mcheck_is_fitted\u001b[0m\u001b[0;34m(\u001b[0m\u001b[0mself\u001b[0m\u001b[0;34m)\u001b[0m\u001b[0;34m\u001b[0m\u001b[0;34m\u001b[0m\u001b[0m\n\u001b[1;32m    406\u001b[0m \u001b[0;34m\u001b[0m\u001b[0m\n\u001b[0;32m--> 407\u001b[0;31m         \u001b[0mX\u001b[0m \u001b[0;34m=\u001b[0m \u001b[0mself\u001b[0m\u001b[0;34m.\u001b[0m\u001b[0m_validate_data\u001b[0m\u001b[0;34m(\u001b[0m\u001b[0mX\u001b[0m\u001b[0;34m,\u001b[0m \u001b[0maccept_sparse\u001b[0m\u001b[0;34m=\u001b[0m\u001b[0;34m\"csr\"\u001b[0m\u001b[0;34m,\u001b[0m \u001b[0mreset\u001b[0m\u001b[0;34m=\u001b[0m\u001b[0;32mFalse\u001b[0m\u001b[0;34m)\u001b[0m\u001b[0;34m\u001b[0m\u001b[0;34m\u001b[0m\u001b[0m\n\u001b[0m\u001b[1;32m    408\u001b[0m         \u001b[0mscores\u001b[0m \u001b[0;34m=\u001b[0m \u001b[0msafe_sparse_dot\u001b[0m\u001b[0;34m(\u001b[0m\u001b[0mX\u001b[0m\u001b[0;34m,\u001b[0m \u001b[0mself\u001b[0m\u001b[0;34m.\u001b[0m\u001b[0mcoef_\u001b[0m\u001b[0;34m.\u001b[0m\u001b[0mT\u001b[0m\u001b[0;34m,\u001b[0m \u001b[0mdense_output\u001b[0m\u001b[0;34m=\u001b[0m\u001b[0;32mTrue\u001b[0m\u001b[0;34m)\u001b[0m \u001b[0;34m+\u001b[0m \u001b[0mself\u001b[0m\u001b[0;34m.\u001b[0m\u001b[0mintercept_\u001b[0m\u001b[0;34m\u001b[0m\u001b[0;34m\u001b[0m\u001b[0m\n\u001b[1;32m    409\u001b[0m         \u001b[0;32mreturn\u001b[0m \u001b[0mscores\u001b[0m\u001b[0;34m.\u001b[0m\u001b[0mravel\u001b[0m\u001b[0;34m(\u001b[0m\u001b[0;34m)\u001b[0m \u001b[0;32mif\u001b[0m \u001b[0mscores\u001b[0m\u001b[0;34m.\u001b[0m\u001b[0mshape\u001b[0m\u001b[0;34m[\u001b[0m\u001b[0;36m1\u001b[0m\u001b[0;34m]\u001b[0m \u001b[0;34m==\u001b[0m \u001b[0;36m1\u001b[0m \u001b[0;32melse\u001b[0m \u001b[0mscores\u001b[0m\u001b[0;34m\u001b[0m\u001b[0;34m\u001b[0m\u001b[0m\n",
            "\u001b[0;32m/usr/local/lib/python3.7/dist-packages/sklearn/base.py\u001b[0m in \u001b[0;36m_validate_data\u001b[0;34m(self, X, y, reset, validate_separately, **check_params)\u001b[0m\n\u001b[1;32m    578\u001b[0m \u001b[0;34m\u001b[0m\u001b[0m\n\u001b[1;32m    579\u001b[0m         \u001b[0;32mif\u001b[0m \u001b[0;32mnot\u001b[0m \u001b[0mno_val_X\u001b[0m \u001b[0;32mand\u001b[0m \u001b[0mcheck_params\u001b[0m\u001b[0;34m.\u001b[0m\u001b[0mget\u001b[0m\u001b[0;34m(\u001b[0m\u001b[0;34m\"ensure_2d\"\u001b[0m\u001b[0;34m,\u001b[0m \u001b[0;32mTrue\u001b[0m\u001b[0;34m)\u001b[0m\u001b[0;34m:\u001b[0m\u001b[0;34m\u001b[0m\u001b[0;34m\u001b[0m\u001b[0m\n\u001b[0;32m--> 580\u001b[0;31m             \u001b[0mself\u001b[0m\u001b[0;34m.\u001b[0m\u001b[0m_check_n_features\u001b[0m\u001b[0;34m(\u001b[0m\u001b[0mX\u001b[0m\u001b[0;34m,\u001b[0m \u001b[0mreset\u001b[0m\u001b[0;34m=\u001b[0m\u001b[0mreset\u001b[0m\u001b[0;34m)\u001b[0m\u001b[0;34m\u001b[0m\u001b[0;34m\u001b[0m\u001b[0m\n\u001b[0m\u001b[1;32m    581\u001b[0m \u001b[0;34m\u001b[0m\u001b[0m\n\u001b[1;32m    582\u001b[0m         \u001b[0;32mreturn\u001b[0m \u001b[0mout\u001b[0m\u001b[0;34m\u001b[0m\u001b[0;34m\u001b[0m\u001b[0m\n",
            "\u001b[0;32m/usr/local/lib/python3.7/dist-packages/sklearn/base.py\u001b[0m in \u001b[0;36m_check_n_features\u001b[0;34m(self, X, reset)\u001b[0m\n\u001b[1;32m    394\u001b[0m         \u001b[0;32mif\u001b[0m \u001b[0mn_features\u001b[0m \u001b[0;34m!=\u001b[0m \u001b[0mself\u001b[0m\u001b[0;34m.\u001b[0m\u001b[0mn_features_in_\u001b[0m\u001b[0;34m:\u001b[0m\u001b[0;34m\u001b[0m\u001b[0;34m\u001b[0m\u001b[0m\n\u001b[1;32m    395\u001b[0m             raise ValueError(\n\u001b[0;32m--> 396\u001b[0;31m                 \u001b[0;34mf\"X has {n_features} features, but {self.__class__.__name__} \"\u001b[0m\u001b[0;34m\u001b[0m\u001b[0;34m\u001b[0m\u001b[0m\n\u001b[0m\u001b[1;32m    397\u001b[0m                 \u001b[0;34mf\"is expecting {self.n_features_in_} features as input.\"\u001b[0m\u001b[0;34m\u001b[0m\u001b[0;34m\u001b[0m\u001b[0m\n\u001b[1;32m    398\u001b[0m             )\n",
            "\u001b[0;31mValueError\u001b[0m: X has 40 features, but LogisticRegression is expecting 19 features as input."
          ]
        }
      ]
    },
    {
      "cell_type": "code",
      "metadata": {
        "colab": {
          "base_uri": "https://localhost:8080/"
        },
        "id": "DLZ4R2-oAx5V",
        "outputId": "ea05e3b0-567b-4d38-97c2-79a53321f2d9"
      },
      "source": [
        "LR.score(X_test, y_test)"
      ],
      "execution_count": 80,
      "outputs": [
        {
          "output_type": "execute_result",
          "data": {
            "text/plain": [
              "0.7686666666666667"
            ]
          },
          "metadata": {},
          "execution_count": 80
        }
      ]
    },
    {
      "cell_type": "code",
      "metadata": {
        "id": "gMv0zPKGp9Ir"
      },
      "source": [
        "# storing the first test-accuracy score for comparing it later\n",
        "TestAccu=LR.score(X_test, y_test)"
      ],
      "execution_count": 81,
      "outputs": []
    },
    {
      "cell_type": "markdown",
      "metadata": {
        "id": "cAKLieirvIfm"
      },
      "source": [
        "#### 3.6. Calculate the precision and recall on the test set."
      ]
    },
    {
      "cell_type": "code",
      "metadata": {
        "id": "-smGt5mXvJFR",
        "colab": {
          "base_uri": "https://localhost:8080/"
        },
        "outputId": "f30a7c3f-d8ac-41d6-bb58-87c441b83e06"
      },
      "source": [
        "# your code here\n",
        "LR_cv = LogisticRegressionCV(solver='lbfgs', cv=5, max_iter=1000)\n",
        "LR_cv.fit(X_test, y_test)\n",
        "y_pred = LR_cv.predict(X_test)\n",
        "\n",
        "def evaluate(true, pred):\n",
        "    precision = precision_score(y_test, y_pred)\n",
        "    recall = recall_score(y_test, y_pred)\n",
        "    f1 = f1_score(y_test, y_pred)\n",
        "    print(f\"CONFUSION MATRIX:\\n{confusion_matrix(true, pred)}\")\n",
        "    print(f\"ACCURACY SCORE:\\n{accuracy_score(true, pred):.4f}\")\n",
        "    print(f\"CLASSIFICATION REPORT:\\n\\tPrecision: {precision:.4f}\\n\\tRecall: {recall:.4f}\\n\\tF1_Score: {f1:.4f}\")\n",
        "\n",
        "evaluate(y_test, y_pred)"
      ],
      "execution_count": 84,
      "outputs": [
        {
          "output_type": "stream",
          "name": "stdout",
          "text": [
            "CONFUSION MATRIX:\n",
            "[[2115  173]\n",
            " [ 340  372]]\n",
            "ACCURACY SCORE:\n",
            "0.8290\n",
            "CLASSIFICATION REPORT:\n",
            "\tPrecision: 0.6826\n",
            "\tRecall: 0.5225\n",
            "\tF1_Score: 0.5919\n"
          ]
        }
      ]
    },
    {
      "cell_type": "markdown",
      "metadata": {
        "id": "wKXpzetYxxaJ"
      },
      "source": [
        "#### 3.7. Plot the confusion matrix"
      ]
    },
    {
      "cell_type": "code",
      "metadata": {
        "id": "rSZyi_Y3sz2Q",
        "colab": {
          "base_uri": "https://localhost:8080/",
          "height": 265
        },
        "outputId": "93b62160-c017-4827-cb0d-4efc8b6d4719"
      },
      "source": [
        "# your code here\n",
        "sns.heatmap(pd.DataFrame(confusion_matrix(y_test, y_pred)), annot=True, cmap='Oranges', fmt='.4g');"
      ],
      "execution_count": 85,
      "outputs": [
        {
          "output_type": "display_data",
          "data": {
            "image/png": "[encoded data removed]",
            "text/plain": [
              "<Figure size 432x288 with 2 Axes>"
            ]
          },
          "metadata": {}
        }
      ]
    },
    {
      "cell_type": "markdown",
      "metadata": {
        "id": "sC_GAUVZyVvP"
      },
      "source": [
        "### 4. Logistic Regression with Cross Validation (with Ordinal-Encoded Salary)\n",
        "#### 4.1. One more time, set the y and X variables, this time using `oe_salary` instead of `le_salary`.\n",
        "\n",
        "> Hint: X shoud contain the following 19 features 'satisfaction_level', 'last_evaluation', 'number_project',\n",
        "       'average_monthly_hours', 'time_spent_company', 'eval_spent','work_accident',\n",
        "       'promotion_last_5years', ('IT',), ('RandD',), ('accounting',),\n",
        "       ('hr',), ('management',), ('marketing',), ('product_mng',),\n",
        "       ('sales',), ('support',), ('technical',), 'oe_salary'."
      ]
    },
    {
      "cell_type": "code",
      "metadata": {
        "id": "Z8KeZ4Y0c_Vq",
        "colab": {
          "base_uri": "https://localhost:8080/"
        },
        "outputId": "d852a2c7-ab19-4564-fdff-e74ec66c3a08"
      },
      "source": [
        "# your code here\n",
        "\n",
        "X = df[['satisfaction_level', 'last_evaluation', 'number_project', 'average_monthly_hours', 'time_spent_company', 'work_accident', 'promotion_last_5years', ('IT',), ('RandD',), ('accounting',), ('hr',), ('management',), ('marketing',), ('product_mng',), ('sales',), ('support',), ('technical',), 0]].values\n",
        "y = df[\"left\"].values\n"
      ],
      "execution_count": 110,
      "outputs": [
        {
          "output_type": "stream",
          "name": "stderr",
          "text": [
            "/usr/local/lib/python3.7/dist-packages/numpy/core/_asarray.py:83: VisibleDeprecationWarning: Creating an ndarray from ragged nested sequences (which is a list-or-tuple of lists-or-tuples-or ndarrays with different lengths or shapes) is deprecated. If you meant to do this, you must specify 'dtype=object' when creating the ndarray\n",
            "  return array(a, dtype, copy=False, order=order)\n"
          ]
        }
      ]
    },
    {
      "cell_type": "markdown",
      "metadata": {
        "id": "hpiThHMOcu4g"
      },
      "source": [
        "\n",
        "#### 4.2. Train/test splitting¶: Now split the data into 80% training and 20% test set. Remember to set the random seed to 72.\n"
      ]
    },
    {
      "cell_type": "code",
      "metadata": {
        "id": "yQBUxCExeFiW"
      },
      "source": [
        "# your code here\n",
        "X_train, X_test, y_train, y_test = train_test_split(X, y, test_size=0.2, random_state=72)"
      ],
      "execution_count": 111,
      "outputs": []
    },
    {
      "cell_type": "markdown",
      "metadata": {
        "id": "FI07dGPezBcp"
      },
      "source": [
        "#### 4.3. Finally, train a Logistic Regression model with cross validation. Use the same parameters as before for Logistic RegressionCV. These are copied again below.\n",
        "\n",
        "`LogisticRegressionCV(solver='lbfgs', cv=5, max_iter=1000, random_state=72)`"
      ]
    },
    {
      "cell_type": "code",
      "metadata": {
        "id": "fkWs6d6HzAhQ",
        "colab": {
          "base_uri": "https://localhost:8080/"
        },
        "outputId": "95a429e2-02c0-4caf-df68-88a939fc08aa"
      },
      "source": [
        "# your code here\n",
        "LR_cv = LogisticRegressionCV(solver='lbfgs', cv=5, max_iter=1000, random_state=72)\n",
        "LR_cv.fit(X_train, y_train)\n",
        "\n",
        "y_pred = LR_cv.predict(X_test)\n",
        "\n",
        "def evaluate(true, pred):\n",
        "    precision = precision_score(y_test, y_pred)\n",
        "    recall = recall_score(y_test, y_pred)\n",
        "    f1 = f1_score(y_test, y_pred)\n",
        "    print(f\"CONFUSION MATRIX:\\n{confusion_matrix(true, pred)}\")\n",
        "    print(f\"ACCURACY SCORE:\\n{accuracy_score(true, pred):.4f}\")\n",
        "    print(f\"CLASSIFICATION REPORT:\\n\\tPrecision: {precision:.4f}\\n\\tRecall: {recall:.4f}\\n\\tF1_Score: {f1:.4f}\")\n",
        "\n",
        "evaluate(y_test, y_pred)"
      ],
      "execution_count": 112,
      "outputs": [
        {
          "output_type": "stream",
          "name": "stdout",
          "text": [
            "CONFUSION MATRIX:\n",
            "[[2117  171]\n",
            " [ 445  267]]\n",
            "ACCURACY SCORE:\n",
            "0.7947\n",
            "CLASSIFICATION REPORT:\n",
            "\tPrecision: 0.6096\n",
            "\tRecall: 0.3750\n",
            "\tF1_Score: 0.4643\n"
          ]
        }
      ]
    },
    {
      "cell_type": "markdown",
      "metadata": {
        "id": "ExaumYDflKBa"
      },
      "source": [
        "#### 4.4 What are accuracy, precision and recall on the test set?"
      ]
    },
    {
      "cell_type": "code",
      "metadata": {
        "id": "YVVDLcVhzhwS",
        "colab": {
          "base_uri": "https://localhost:8080/"
        },
        "outputId": "1ce5a78f-03ac-40ef-edc3-6b51502465e6"
      },
      "source": [
        "# your code here\n",
        "def evaluate(true, pred):\n",
        "    precision = precision_score(y_test, y_pred)\n",
        "    recall = recall_score(y_test, y_pred)\n",
        "    f1 = f1_score(y_test, y_pred)\n",
        "    print(f\"ACCURACY SCORE:\\n{accuracy_score(true, pred):.4f}\")\n",
        "    print(f\"CLASSIFICATION REPORT:\\nPrecision: {precision:.4f}\\nRecall: {recall:.4f}\")\n",
        "evaluate(y_test, y_pred)"
      ],
      "execution_count": 119,
      "outputs": [
        {
          "output_type": "stream",
          "name": "stdout",
          "text": [
            "ACCURACY SCORE:\n",
            "0.7947\n",
            "CLASSIFICATION REPORT:\n",
            "Precision: 0.6096\n",
            "Recall: 0.3750\n"
          ]
        }
      ]
    },
    {
      "cell_type": "code",
      "metadata": {
        "id": "s3KA5KYhwvSx"
      },
      "source": [
        "# store your test accuracy for later\n",
        "TestAccu= 0.7947"
      ],
      "execution_count": 122,
      "outputs": []
    },
    {
      "cell_type": "markdown",
      "metadata": {
        "id": "2GOmCRGsrp2M"
      },
      "source": [
        "#### 4.5. Plot the confusion matrix."
      ]
    },
    {
      "cell_type": "code",
      "metadata": {
        "id": "UPRF8EVazuMZ",
        "colab": {
          "base_uri": "https://localhost:8080/",
          "height": 265
        },
        "outputId": "ac1d2e19-eeea-409c-ecf4-b65a182c0da3"
      },
      "source": [
        "# your code here\n",
        "sns.heatmap(pd.DataFrame(confusion_matrix(y_test, y_pred)), annot=True, cmap='Oranges', fmt='.4g');"
      ],
      "execution_count": 123,
      "outputs": [
        {
          "output_type": "display_data",
          "data": {
            "image/png": "[encoded data removed]",
            "text/plain": [
              "<Figure size 432x288 with 2 Axes>"
            ]
          },
          "metadata": {}
        }
      ]
    },
    {
      "cell_type": "markdown",
      "metadata": {
        "id": "iOmMrPwzeYpR"
      },
      "source": [
        "### 5. Logistic Regression with Standardisation and Cross Validation\n",
        "\n",
        "Try to improve the previous model under point 4 (with `oe_salary`) using standardisation. \n",
        "\n",
        "#### 5.1. Standardize only these numerical features: `satisfaction_level`, `last_evaluation`, `number_project`, `average_monthly_hours`, `time_spent_company`, `eval_spent`, so that each have a mean of zero and a standard deviation of 1. You can use the Scikit-learn `StandardScaler` function.\n",
        "> Hint: remember to use only the training set for fiting the StandardScaler, then apply the scaler (transform) to both the train and test sets.\n",
        ">\n",
        "> Hint 2: X shoud contain the following 19 features 'satisfaction_level', 'last_evaluation', 'number_project',\n",
        "       'average_monthly_hours', 'time_spent_company', 'eval_spent','work_accident',\n",
        "       'promotion_last_5years', ('IT',), ('RandD',), ('accounting',),\n",
        "       ('hr',), ('management',), ('marketing',), ('product_mng',),\n",
        "       ('sales',), ('support',), ('technical',), 'oe_salary'.\n"
      ]
    },
    {
      "cell_type": "code",
      "metadata": {
        "id": "--3fuA6ge1sW",
        "colab": {
          "base_uri": "https://localhost:8080/"
        },
        "outputId": "bc70b643-9f81-4991-bc69-ad743bb6ef8a"
      },
      "source": [
        "# your code here\n",
        "X = df[['satisfaction_level', 'last_evaluation', 'number_project', 'average_monthly_hours', 'time_spent_company', 'eval_spent','work_accident', 'promotion_last_5years', ('IT',), ('RandD',), ('accounting',), ('hr',), ('management',), ('marketing',), ('product_mng',), ('sales',), ('support',), ('technical',), 0]].values\n",
        "y = df[\"left\"].values"
      ],
      "execution_count": 126,
      "outputs": [
        {
          "output_type": "stream",
          "name": "stderr",
          "text": [
            "/usr/local/lib/python3.7/dist-packages/numpy/core/_asarray.py:83: VisibleDeprecationWarning: Creating an ndarray from ragged nested sequences (which is a list-or-tuple of lists-or-tuples-or ndarrays with different lengths or shapes) is deprecated. If you meant to do this, you must specify 'dtype=object' when creating the ndarray\n",
            "  return array(a, dtype, copy=False, order=order)\n"
          ]
        }
      ]
    },
    {
      "cell_type": "markdown",
      "metadata": {
        "id": "Jxuz3ooZkxm5"
      },
      "source": [
        "#### 5.2. Training\n",
        "\n",
        "Train a Logistic Regression model with Cross Validation on the pre-processed dataset to which you applied standardisation. Use the same parameters for LogisticRegressionCV as before. These are copied below.\n",
        "\n",
        "`LogisticRegressionCV(solver='lbfgs', cv=5, max_iter=1000, random_state=72)`\n",
        "\n"
      ]
    },
    {
      "cell_type": "code",
      "metadata": {
        "id": "MW--o0sHk-2-",
        "colab": {
          "base_uri": "https://localhost:8080/"
        },
        "outputId": "bd452c22-c806-4215-983d-8bd9f09d6914"
      },
      "source": [
        "# your code here\n",
        "X_train, X_test, y_train, y_test = train_test_split(X, y, test_size=0.2, random_state=72)\n",
        "\n",
        "LR_cv = LogisticRegressionCV(solver='lbfgs', cv=5, max_iter=1000, random_state=72)\n",
        "LR_cv.fit(X_train, y_train)"
      ],
      "execution_count": 128,
      "outputs": [
        {
          "output_type": "stream",
          "name": "stderr",
          "text": [
            "/usr/local/lib/python3.7/dist-packages/sklearn/linear_model/_logistic.py:818: ConvergenceWarning: lbfgs failed to converge (status=1):\n",
            "STOP: TOTAL NO. of ITERATIONS REACHED LIMIT.\n",
            "\n",
            "Increase the number of iterations (max_iter) or scale the data as shown in:\n",
            "    https://scikit-learn.org/stable/modules/preprocessing.html\n",
            "Please also refer to the documentation for alternative solver options:\n",
            "    https://scikit-learn.org/stable/modules/linear_model.html#logistic-regression\n",
            "  extra_warning_msg=_LOGISTIC_SOLVER_CONVERGENCE_MSG,\n"
          ]
        },
        {
          "output_type": "execute_result",
          "data": {
            "text/plain": [
              "LogisticRegressionCV(cv=5, max_iter=1000, random_state=72)"
            ]
          },
          "metadata": {},
          "execution_count": 128
        }
      ]
    },
    {
      "cell_type": "code",
      "metadata": {
        "colab": {
          "base_uri": "https://localhost:8080/"
        },
        "id": "xNj2K7pNKj8s",
        "outputId": "0d514473-5113-4d2f-8500-b958385193a4"
      },
      "source": [
        "y_pred = LR_cv.predict(X_test)\n",
        "\n",
        "def evaluate(true, pred):\n",
        "    precision = precision_score(y_test, y_pred)\n",
        "    recall = recall_score(y_test, y_pred)\n",
        "    f1 = f1_score(y_test, y_pred)\n",
        "    print(f\"CONFUSION MATRIX:\\n{confusion_matrix(true, pred)}\")\n",
        "    print(f\"ACCURACY SCORE:\\n{accuracy_score(true, pred):.4f}\")\n",
        "    print(f\"CLASSIFICATION REPORT:\\n\\tPrecision: {precision:.4f}\\n\\tRecall: {recall:.4f}\\n\\tF1_Score: {f1:.4f}\")\n",
        "\n",
        "evaluate(y_test, y_pred)"
      ],
      "execution_count": 129,
      "outputs": [
        {
          "output_type": "stream",
          "name": "stdout",
          "text": [
            "CONFUSION MATRIX:\n",
            "[[2106  182]\n",
            " [ 351  361]]\n",
            "ACCURACY SCORE:\n",
            "0.8223\n",
            "CLASSIFICATION REPORT:\n",
            "\tPrecision: 0.6648\n",
            "\tRecall: 0.5070\n",
            "\tF1_Score: 0.5753\n"
          ]
        }
      ]
    },
    {
      "cell_type": "markdown",
      "metadata": {
        "id": "G8e1k-cTld4s"
      },
      "source": [
        "#### 5.3. What is the test accuracy? What is the train accuracy?"
      ]
    },
    {
      "cell_type": "code",
      "metadata": {
        "id": "oRM8iaRslddX",
        "colab": {
          "base_uri": "https://localhost:8080/",
          "height": 324
        },
        "outputId": "f6cb4c05-bd88-43b1-c37e-3e94bcef1c64"
      },
      "source": [
        "# your code here\n",
        "LR.score(X_train, y_train)"
      ],
      "execution_count": 130,
      "outputs": [
        {
          "output_type": "error",
          "ename": "ValueError",
          "evalue": "ignored",
          "traceback": [
            "\u001b[0;31m---------------------------------------------------------------------------\u001b[0m",
            "\u001b[0;31mValueError\u001b[0m                                Traceback (most recent call last)",
            "\u001b[0;32m<ipython-input-130-b8a76ba583e6>\u001b[0m in \u001b[0;36m<module>\u001b[0;34m()\u001b[0m\n\u001b[1;32m      1\u001b[0m \u001b[0;31m# your code here\u001b[0m\u001b[0;34m\u001b[0m\u001b[0;34m\u001b[0m\u001b[0;34m\u001b[0m\u001b[0m\n\u001b[0;32m----> 2\u001b[0;31m \u001b[0mLR\u001b[0m\u001b[0;34m.\u001b[0m\u001b[0mscore\u001b[0m\u001b[0;34m(\u001b[0m\u001b[0mX_train\u001b[0m\u001b[0;34m,\u001b[0m \u001b[0my_train\u001b[0m\u001b[0;34m)\u001b[0m\u001b[0;34m\u001b[0m\u001b[0;34m\u001b[0m\u001b[0m\n\u001b[0m",
            "\u001b[0;32m/usr/local/lib/python3.7/dist-packages/sklearn/base.py\u001b[0m in \u001b[0;36mscore\u001b[0;34m(self, X, y, sample_weight)\u001b[0m\n\u001b[1;32m    644\u001b[0m         \u001b[0;32mfrom\u001b[0m \u001b[0;34m.\u001b[0m\u001b[0mmetrics\u001b[0m \u001b[0;32mimport\u001b[0m \u001b[0maccuracy_score\u001b[0m\u001b[0;34m\u001b[0m\u001b[0;34m\u001b[0m\u001b[0m\n\u001b[1;32m    645\u001b[0m \u001b[0;34m\u001b[0m\u001b[0m\n\u001b[0;32m--> 646\u001b[0;31m         \u001b[0;32mreturn\u001b[0m \u001b[0maccuracy_score\u001b[0m\u001b[0;34m(\u001b[0m\u001b[0my\u001b[0m\u001b[0;34m,\u001b[0m \u001b[0mself\u001b[0m\u001b[0;34m.\u001b[0m\u001b[0mpredict\u001b[0m\u001b[0;34m(\u001b[0m\u001b[0mX\u001b[0m\u001b[0;34m)\u001b[0m\u001b[0;34m,\u001b[0m \u001b[0msample_weight\u001b[0m\u001b[0;34m=\u001b[0m\u001b[0msample_weight\u001b[0m\u001b[0;34m)\u001b[0m\u001b[0;34m\u001b[0m\u001b[0;34m\u001b[0m\u001b[0m\n\u001b[0m\u001b[1;32m    647\u001b[0m \u001b[0;34m\u001b[0m\u001b[0m\n\u001b[1;32m    648\u001b[0m     \u001b[0;32mdef\u001b[0m \u001b[0m_more_tags\u001b[0m\u001b[0;34m(\u001b[0m\u001b[0mself\u001b[0m\u001b[0;34m)\u001b[0m\u001b[0;34m:\u001b[0m\u001b[0;34m\u001b[0m\u001b[0;34m\u001b[0m\u001b[0m\n",
            "\u001b[0;32m/usr/local/lib/python3.7/dist-packages/sklearn/linear_model/_base.py\u001b[0m in \u001b[0;36mpredict\u001b[0;34m(self, X)\u001b[0m\n\u001b[1;32m    423\u001b[0m             \u001b[0mPredicted\u001b[0m \u001b[0;32mclass\u001b[0m \u001b[0mlabel\u001b[0m \u001b[0mper\u001b[0m \u001b[0msample\u001b[0m\u001b[0;34m.\u001b[0m\u001b[0;34m\u001b[0m\u001b[0;34m\u001b[0m\u001b[0m\n\u001b[1;32m    424\u001b[0m         \"\"\"\n\u001b[0;32m--> 425\u001b[0;31m         \u001b[0mscores\u001b[0m \u001b[0;34m=\u001b[0m \u001b[0mself\u001b[0m\u001b[0;34m.\u001b[0m\u001b[0mdecision_function\u001b[0m\u001b[0;34m(\u001b[0m\u001b[0mX\u001b[0m\u001b[0;34m)\u001b[0m\u001b[0;34m\u001b[0m\u001b[0;34m\u001b[0m\u001b[0m\n\u001b[0m\u001b[1;32m    426\u001b[0m         \u001b[0;32mif\u001b[0m \u001b[0mlen\u001b[0m\u001b[0;34m(\u001b[0m\u001b[0mscores\u001b[0m\u001b[0;34m.\u001b[0m\u001b[0mshape\u001b[0m\u001b[0;34m)\u001b[0m \u001b[0;34m==\u001b[0m \u001b[0;36m1\u001b[0m\u001b[0;34m:\u001b[0m\u001b[0;34m\u001b[0m\u001b[0;34m\u001b[0m\u001b[0m\n\u001b[1;32m    427\u001b[0m             \u001b[0mindices\u001b[0m \u001b[0;34m=\u001b[0m \u001b[0;34m(\u001b[0m\u001b[0mscores\u001b[0m \u001b[0;34m>\u001b[0m \u001b[0;36m0\u001b[0m\u001b[0;34m)\u001b[0m\u001b[0;34m.\u001b[0m\u001b[0mastype\u001b[0m\u001b[0;34m(\u001b[0m\u001b[0mint\u001b[0m\u001b[0;34m)\u001b[0m\u001b[0;34m\u001b[0m\u001b[0;34m\u001b[0m\u001b[0m\n",
            "\u001b[0;32m/usr/local/lib/python3.7/dist-packages/sklearn/linear_model/_base.py\u001b[0m in \u001b[0;36mdecision_function\u001b[0;34m(self, X)\u001b[0m\n\u001b[1;32m    405\u001b[0m         \u001b[0mcheck_is_fitted\u001b[0m\u001b[0;34m(\u001b[0m\u001b[0mself\u001b[0m\u001b[0;34m)\u001b[0m\u001b[0;34m\u001b[0m\u001b[0;34m\u001b[0m\u001b[0m\n\u001b[1;32m    406\u001b[0m \u001b[0;34m\u001b[0m\u001b[0m\n\u001b[0;32m--> 407\u001b[0;31m         \u001b[0mX\u001b[0m \u001b[0;34m=\u001b[0m \u001b[0mself\u001b[0m\u001b[0;34m.\u001b[0m\u001b[0m_validate_data\u001b[0m\u001b[0;34m(\u001b[0m\u001b[0mX\u001b[0m\u001b[0;34m,\u001b[0m \u001b[0maccept_sparse\u001b[0m\u001b[0;34m=\u001b[0m\u001b[0;34m\"csr\"\u001b[0m\u001b[0;34m,\u001b[0m \u001b[0mreset\u001b[0m\u001b[0;34m=\u001b[0m\u001b[0;32mFalse\u001b[0m\u001b[0;34m)\u001b[0m\u001b[0;34m\u001b[0m\u001b[0;34m\u001b[0m\u001b[0m\n\u001b[0m\u001b[1;32m    408\u001b[0m         \u001b[0mscores\u001b[0m \u001b[0;34m=\u001b[0m \u001b[0msafe_sparse_dot\u001b[0m\u001b[0;34m(\u001b[0m\u001b[0mX\u001b[0m\u001b[0;34m,\u001b[0m \u001b[0mself\u001b[0m\u001b[0;34m.\u001b[0m\u001b[0mcoef_\u001b[0m\u001b[0;34m.\u001b[0m\u001b[0mT\u001b[0m\u001b[0;34m,\u001b[0m \u001b[0mdense_output\u001b[0m\u001b[0;34m=\u001b[0m\u001b[0;32mTrue\u001b[0m\u001b[0;34m)\u001b[0m \u001b[0;34m+\u001b[0m \u001b[0mself\u001b[0m\u001b[0;34m.\u001b[0m\u001b[0mintercept_\u001b[0m\u001b[0;34m\u001b[0m\u001b[0;34m\u001b[0m\u001b[0m\n\u001b[1;32m    409\u001b[0m         \u001b[0;32mreturn\u001b[0m \u001b[0mscores\u001b[0m\u001b[0;34m.\u001b[0m\u001b[0mravel\u001b[0m\u001b[0;34m(\u001b[0m\u001b[0;34m)\u001b[0m \u001b[0;32mif\u001b[0m \u001b[0mscores\u001b[0m\u001b[0;34m.\u001b[0m\u001b[0mshape\u001b[0m\u001b[0;34m[\u001b[0m\u001b[0;36m1\u001b[0m\u001b[0;34m]\u001b[0m \u001b[0;34m==\u001b[0m \u001b[0;36m1\u001b[0m \u001b[0;32melse\u001b[0m \u001b[0mscores\u001b[0m\u001b[0;34m\u001b[0m\u001b[0;34m\u001b[0m\u001b[0m\n",
            "\u001b[0;32m/usr/local/lib/python3.7/dist-packages/sklearn/base.py\u001b[0m in \u001b[0;36m_validate_data\u001b[0;34m(self, X, y, reset, validate_separately, **check_params)\u001b[0m\n\u001b[1;32m    578\u001b[0m \u001b[0;34m\u001b[0m\u001b[0m\n\u001b[1;32m    579\u001b[0m         \u001b[0;32mif\u001b[0m \u001b[0;32mnot\u001b[0m \u001b[0mno_val_X\u001b[0m \u001b[0;32mand\u001b[0m \u001b[0mcheck_params\u001b[0m\u001b[0;34m.\u001b[0m\u001b[0mget\u001b[0m\u001b[0;34m(\u001b[0m\u001b[0;34m\"ensure_2d\"\u001b[0m\u001b[0;34m,\u001b[0m \u001b[0;32mTrue\u001b[0m\u001b[0;34m)\u001b[0m\u001b[0;34m:\u001b[0m\u001b[0;34m\u001b[0m\u001b[0;34m\u001b[0m\u001b[0m\n\u001b[0;32m--> 580\u001b[0;31m             \u001b[0mself\u001b[0m\u001b[0;34m.\u001b[0m\u001b[0m_check_n_features\u001b[0m\u001b[0;34m(\u001b[0m\u001b[0mX\u001b[0m\u001b[0;34m,\u001b[0m \u001b[0mreset\u001b[0m\u001b[0;34m=\u001b[0m\u001b[0mreset\u001b[0m\u001b[0;34m)\u001b[0m\u001b[0;34m\u001b[0m\u001b[0;34m\u001b[0m\u001b[0m\n\u001b[0m\u001b[1;32m    581\u001b[0m \u001b[0;34m\u001b[0m\u001b[0m\n\u001b[1;32m    582\u001b[0m         \u001b[0;32mreturn\u001b[0m \u001b[0mout\u001b[0m\u001b[0;34m\u001b[0m\u001b[0;34m\u001b[0m\u001b[0m\n",
            "\u001b[0;32m/usr/local/lib/python3.7/dist-packages/sklearn/base.py\u001b[0m in \u001b[0;36m_check_n_features\u001b[0;34m(self, X, reset)\u001b[0m\n\u001b[1;32m    394\u001b[0m         \u001b[0;32mif\u001b[0m \u001b[0mn_features\u001b[0m \u001b[0;34m!=\u001b[0m \u001b[0mself\u001b[0m\u001b[0;34m.\u001b[0m\u001b[0mn_features_in_\u001b[0m\u001b[0;34m:\u001b[0m\u001b[0;34m\u001b[0m\u001b[0;34m\u001b[0m\u001b[0m\n\u001b[1;32m    395\u001b[0m             raise ValueError(\n\u001b[0;32m--> 396\u001b[0;31m                 \u001b[0;34mf\"X has {n_features} features, but {self.__class__.__name__} \"\u001b[0m\u001b[0;34m\u001b[0m\u001b[0;34m\u001b[0m\u001b[0m\n\u001b[0m\u001b[1;32m    397\u001b[0m                 \u001b[0;34mf\"is expecting {self.n_features_in_} features as input.\"\u001b[0m\u001b[0;34m\u001b[0m\u001b[0;34m\u001b[0m\u001b[0m\n\u001b[1;32m    398\u001b[0m             )\n",
            "\u001b[0;31mValueError\u001b[0m: X has 40 features, but LogisticRegression is expecting 19 features as input."
          ]
        }
      ]
    },
    {
      "cell_type": "code",
      "metadata": {
        "id": "xoepEdpLw4lA"
      },
      "source": [
        "# store the test accuracy for later\n"
      ],
      "execution_count": null,
      "outputs": []
    },
    {
      "cell_type": "markdown",
      "metadata": {
        "id": "TwqF0NopnNcv"
      },
      "source": [
        "#### 5.4. Calculate the precision and recall on the test set."
      ]
    },
    {
      "cell_type": "code",
      "metadata": {
        "id": "gRY2UFNNnZub"
      },
      "source": [
        "# your code here\n"
      ],
      "execution_count": null,
      "outputs": []
    },
    {
      "cell_type": "markdown",
      "metadata": {
        "id": "KiE8eSDNnpMj"
      },
      "source": [
        "#### 5.5. Show the confusion matrix for the test set"
      ]
    },
    {
      "cell_type": "code",
      "metadata": {
        "id": "oFblg98AntID"
      },
      "source": [
        "# your code here\n"
      ],
      "execution_count": null,
      "outputs": []
    },
    {
      "cell_type": "markdown",
      "metadata": {
        "id": "gP60c3W1gger"
      },
      "source": [
        "#### 5.6. Plot the confusion matrix"
      ]
    },
    {
      "cell_type": "code",
      "metadata": {
        "id": "agoL8LZWguFt"
      },
      "source": [
        "# your code here\n"
      ],
      "execution_count": null,
      "outputs": []
    },
    {
      "cell_type": "markdown",
      "metadata": {
        "id": "IugsRC-jXOOF"
      },
      "source": [
        "#### 5.7. Use the logistic regression model with standardisation and cross validation to predict whether a employee with the following characteristics will stay on the job or leave:\n",
        "\n",
        "> An employee from the sales department, low salary, satisfaction 0.43, last evaluation 0.97, involved in 6 projects, working 284 monthly hours, 4 years spent with the company, 0 work accident and 0 promotions in the last 5 years."
      ]
    },
    {
      "cell_type": "code",
      "metadata": {
        "id": "aFbXuh8dXVqz"
      },
      "source": [
        "# these are the X-values for which you should make the prediction\n",
        "X_new = pd.DataFrame({'satisfaction_level': 0.43, 'last_evaluation': 0.97, 'number_project': 6,\n",
        "       'average_monthly_hours': 284, 'time_spent_company': 4, 'eval_spent': 3.88, \n",
        "       'work_accident': 0, 'promotion_last_5years': 0, ('IT',): 0, ('RandD',): 0, ('accounting',): 0,\n",
        "       ('hr',): 0, ('management',): 0, ('marketing',): 0, ('product_mng',): 0,\n",
        "       ('sales',): 1, ('support',): 0, ('technical',): 0, 'salary_encoded': 0}, index=[0])\n",
        "X_new"
      ],
      "execution_count": null,
      "outputs": []
    },
    {
      "cell_type": "code",
      "metadata": {
        "id": "X6lnBXFxS_ik"
      },
      "source": [
        "# your code here"
      ],
      "execution_count": null,
      "outputs": []
    },
    {
      "cell_type": "markdown",
      "metadata": {
        "id": "ZZ4x4uoIieJe"
      },
      "source": [
        "### 6. KNN with standardisation\n",
        "\n",
        "#### 6.1. Train a model using a K-Nearest Neighbours (KNN) algorithm, setting `knn = KNeighborsClassifier(n_neighbors=2)`. Use the same features as in the previous model (`oe_salary`) and standardisation.\n",
        "\n",
        "> Hint: X shoud contain the following 19 features 'satisfaction_level', 'last_evaluation', 'number_project',\n",
        "       'average_monthly_hours', 'time_spent_company', 'eval_spent','work_accident',\n",
        "       'promotion_last_5years', ('IT',), ('RandD',), ('accounting',),\n",
        "       ('hr',), ('management',), ('marketing',), ('product_mng',),\n",
        "       ('sales',), ('support',), ('technical',), 'oe_salary'."
      ]
    },
    {
      "cell_type": "code",
      "metadata": {
        "id": "9FHx6ToXkXdH"
      },
      "source": [
        "# your code here\n"
      ],
      "execution_count": null,
      "outputs": []
    },
    {
      "cell_type": "markdown",
      "metadata": {
        "id": "_D_OMunOmjrt"
      },
      "source": [
        "#### 6.2. What is the train and test accuracy?"
      ]
    },
    {
      "cell_type": "code",
      "metadata": {
        "id": "41or1EWqDFn3"
      },
      "source": [
        "# your code here\n"
      ],
      "execution_count": null,
      "outputs": []
    },
    {
      "cell_type": "code",
      "metadata": {
        "id": "I7Qf7nJixb6W"
      },
      "source": [
        "# store the test-accuracy for later\n"
      ],
      "execution_count": null,
      "outputs": []
    },
    {
      "cell_type": "markdown",
      "metadata": {
        "id": "FL2KCnrXm8RD"
      },
      "source": [
        "#### 6.3. What is the precision and recall?"
      ]
    },
    {
      "cell_type": "code",
      "metadata": {
        "id": "6B3B9MKmm_My"
      },
      "source": [
        "# your code here\n"
      ],
      "execution_count": null,
      "outputs": []
    },
    {
      "cell_type": "markdown",
      "metadata": {
        "id": "kd1N5wMlmn8J"
      },
      "source": [
        "#### 6.4. Print and plot the confusion matrix"
      ]
    },
    {
      "cell_type": "code",
      "metadata": {
        "id": "b5QSYum1lqRN"
      },
      "source": [
        "# your code here\n"
      ],
      "execution_count": null,
      "outputs": []
    },
    {
      "cell_type": "markdown",
      "metadata": {
        "id": "kWMZOW63GtSZ"
      },
      "source": [
        "#### 6.5. Use the K-Nearest Neighbours (KNN) model trained above to predict whether a employee with the characteristics outilined below will stay on the job. This is the same employee as before under point 5.7.\n",
        "\n",
        "> An employee from the sales department, low salary, satisfaction 0.43, last evaluation 0.97, involved in 6 projects, working 284 monthly hours, 4 years spent with the company, 0 work accident and 0 promotions in the last 5 years. (same as before)\n",
        ">\n",
        "> Hint: do not forget to apply standardisation to the data for the new employee for which you want to make the prediction."
      ]
    },
    {
      "cell_type": "code",
      "metadata": {
        "id": "TeMJ-3nbymnQ"
      },
      "source": [
        "# these are the X-values for which you should make the prediction\n",
        "X_new = pd.DataFrame({'satisfaction_level': 0.43, 'last_evaluation': 0.97, 'number_project': 6,\n",
        "       'average_monthly_hours': 284, 'time_spent_company': 4, 'eval_spent': 3.88, \n",
        "       'work_accident': 0, 'promotion_last_5years': 0, ('IT',): 0, ('RandD',): 0, ('accounting',): 0,\n",
        "       ('hr',): 0, ('management',): 0, ('marketing',): 0, ('product_mng',): 0,\n",
        "       ('sales',): 1, ('support',): 0, ('technical',): 0, 'salary_encoded': 0}, index=[0])\n",
        "X_new"
      ],
      "execution_count": null,
      "outputs": []
    },
    {
      "cell_type": "code",
      "metadata": {
        "id": "o0qdDuAjMU_G"
      },
      "source": [
        "# your code here\n"
      ],
      "execution_count": null,
      "outputs": []
    },
    {
      "cell_type": "markdown",
      "metadata": {
        "id": "bsnPOjTLIAb5"
      },
      "source": [
        "### 7. Decision Tree Classifier and Standardisation\n",
        "\n",
        "#### 7.1. Use the same features as before (with `oe_salary`) and standardisation to train your model of emloyee retention. Use the following parameters for your decision tree: `DecisionTreeClassifier(max_depth=7, random_state=72)`\n",
        "\n",
        "> Hint: X should have a total of 19 features, namely: 'satisfaction_level', 'last_evaluation',            'number_project', 'average_monthly_hours',           'time_spent_company',         'work_accident',       'promotion_last_5years',                 ('IT',),                   ('RandD',),         ('accounting',), ('hr',),         ('management',),  ('marketing',), ('product_mng',), ('sales',),            ('support',), ('technical',), 'le_salary', 'eval_spent'.\n"
      ]
    },
    {
      "cell_type": "code",
      "metadata": {
        "id": "xlDAUBkcH_iq"
      },
      "source": [
        "from sklearn.tree import DecisionTreeClassifier\n",
        "tree=DecisionTreeClassifier(max_depth=7, random_state=72)"
      ],
      "execution_count": null,
      "outputs": []
    },
    {
      "cell_type": "code",
      "metadata": {
        "id": "1_uupNg6H_Us"
      },
      "source": [
        "# your code here\n"
      ],
      "execution_count": null,
      "outputs": []
    },
    {
      "cell_type": "markdown",
      "metadata": {
        "id": "G2FpmqNjJ66g"
      },
      "source": [
        "#### 7.2. Calculate the test and train accuracy."
      ]
    },
    {
      "cell_type": "code",
      "metadata": {
        "id": "mQULc9q6H_LX"
      },
      "source": [
        "# your code here\n"
      ],
      "execution_count": null,
      "outputs": []
    },
    {
      "cell_type": "code",
      "metadata": {
        "id": "-XSqSItkxj9h"
      },
      "source": [
        "# store for the test-accuracy for later\n"
      ],
      "execution_count": null,
      "outputs": []
    },
    {
      "cell_type": "markdown",
      "metadata": {
        "id": "Q5RqEnqtOp4i"
      },
      "source": [
        "#### 7.3. Calculate precision and recall on the test set"
      ]
    },
    {
      "cell_type": "code",
      "metadata": {
        "id": "toVqjFO9O27Y"
      },
      "source": [
        "# your code here\n"
      ],
      "execution_count": null,
      "outputs": []
    },
    {
      "cell_type": "markdown",
      "metadata": {
        "id": "BwZd3GFTPa62"
      },
      "source": [
        "#### 7.4. Plot the confusion matrix"
      ]
    },
    {
      "cell_type": "code",
      "metadata": {
        "id": "Dc5v4veLMThI"
      },
      "source": [
        "# your code here\n"
      ],
      "execution_count": null,
      "outputs": []
    },
    {
      "cell_type": "markdown",
      "metadata": {
        "id": "TI36pgVHv3Dy"
      },
      "source": [
        "### 8. Accuracy improvement\n",
        "\n",
        "Generate a plot with the different test accuracy scores obtained for the different models trained and including the base rate you calculated in the beginning."
      ]
    },
    {
      "cell_type": "code",
      "metadata": {
        "id": "qGN0jmaMv1fP"
      },
      "source": [
        "# your code here\n"
      ],
      "execution_count": null,
      "outputs": []
    }
  ]
}